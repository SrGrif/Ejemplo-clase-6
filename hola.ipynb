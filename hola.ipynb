{
 "cells": [
  {
   "cell_type": "markdown",
   "metadata": {},
   "source": [
    "```bash\n",
    "# Nombre de usuario y correo\n",
    "$ git config --global user.name \"SrGrif\"\n",
    "$ git config --global user.email \"victoralvarezvaav@gmail.com\"\n",
    "\n",
    "# verififcar los datos\n",
    "git config --global --list\n",
    "\n"
   ]
  },
  {
   "cell_type": "markdown",
   "metadata": {},
   "source": [
    "<!-- hola-->\n",
    "\n"
   ]
  },
  {
   "cell_type": "markdown",
   "metadata": {},
   "source": [
    "## holaaa"
   ]
  }
 ],
 "metadata": {
  "language_info": {
   "name": "python"
  }
 },
 "nbformat": 4,
 "nbformat_minor": 2
}
